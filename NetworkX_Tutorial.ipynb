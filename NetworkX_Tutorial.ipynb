{
  "cells": [
    {
      "cell_type": "markdown",
      "metadata": {
        "id": "view-in-github",
        "colab_type": "text"
      },
      "source": [
        "<a href=\"https://colab.research.google.com/github/Yoyo1505/Noriega-Zaldiavr-Jorge-Armando_INV_OPS/blob/main/NetworkX_Tutorial.ipynb\" target=\"_parent\"><img src=\"https://colab.research.google.com/assets/colab-badge.svg\" alt=\"Open In Colab\"/></a>"
      ]
    },
    {
      "cell_type": "markdown",
      "source": [
        "#**Tutorial de Networkx**"
      ],
      "metadata": {
        "id": "hIazFcQkFYAm"
      }
    },
    {
      "cell_type": "markdown",
      "source": [
        "Primero, descargamos las bibliotecas necesarias para realizar una explicación detallada y ejemplificada de sus funciones y aplicaciones que ofrece la libreria Networkx.\n",
        "\n",
        "La biblioteca NetworkX es una herramienta que permite la creación, manipulación y análisis de redes complejas, tanto en su estructura como en su dinámica y funcionalidad. Es ampliamente utilizada en estudios de grafos, redes sociales, sistemas biológicos, entre otros.\n",
        "\n",
        "La biblioteca yfinance se emplea para realizar análisis financieros básicos mediante la descarga de información de activos directamente desde Yahoo Finance. Una limitación importante es que, en ciertos horarios, Yahoo restringe el acceso a los datos. Como alternativa, se pueden utilizar otras bibliotecas como pandas_datareader (gratuita), backtrader (requiere clave API), quandl, entre otras.\n",
        "\n",
        "NumPy es una biblioteca fundamental para cálculos numéricos. Ofrece funciones matemáticas avanzadas, herramientas de álgebra lineal, transformadas de Fourier, generación de números aleatorios y más.\n",
        "\n",
        "Pandas está diseñada para la manipulación y análisis de datos estructurados. Proporciona estructuras eficientes como DataFrames y Series, ideales para trabajar con tablas, series temporales y grandes volúmenes de información.\n",
        "\n",
        "Matplotlib es una biblioteca de visualización que permite crear gráficos estadísticos, esenciales para el análisis exploratorio de datos. Es compatible con múltiples estilos y formatos, lo que facilita la presentación de resultados de manera clara y profesional, al igual que seaborn.\n",
        "\n",
        "Tabulate unicamente es para que los resultados de los datasets que contienen mucha información salgan organizados."
      ],
      "metadata": {
        "id": "cZniUnTwF3fo"
      }
    },
    {
      "cell_type": "code",
      "execution_count": 21,
      "metadata": {
        "colab": {
          "base_uri": "https://localhost:8080/"
        },
        "collapsed": true,
        "id": "wmjZm22tyFIV",
        "outputId": "3e78a48f-ba54-4d34-aa6e-4db3bb7c1e2d"
      },
      "outputs": [
        {
          "output_type": "stream",
          "name": "stdout",
          "text": [
            "Requirement already satisfied: networkx in /usr/local/lib/python3.12/dist-packages (3.5)\n",
            "Requirement already satisfied: yfinance in /usr/local/lib/python3.12/dist-packages (0.2.65)\n",
            "Requirement already satisfied: numpy in /usr/local/lib/python3.12/dist-packages (2.0.2)\n",
            "Requirement already satisfied: pandas in /usr/local/lib/python3.12/dist-packages (2.2.2)\n",
            "Requirement already satisfied: matplotlib in /usr/local/lib/python3.12/dist-packages (3.10.0)\n",
            "Requirement already satisfied: seaborn in /usr/local/lib/python3.12/dist-packages (0.13.2)\n",
            "Requirement already satisfied: tabulate in /usr/local/lib/python3.12/dist-packages (0.9.0)\n",
            "Requirement already satisfied: typing in /usr/local/lib/python3.12/dist-packages (3.7.4.3)\n",
            "Requirement already satisfied: requests>=2.31 in /usr/local/lib/python3.12/dist-packages (from yfinance) (2.32.4)\n",
            "Requirement already satisfied: multitasking>=0.0.7 in /usr/local/lib/python3.12/dist-packages (from yfinance) (0.0.12)\n",
            "Requirement already satisfied: platformdirs>=2.0.0 in /usr/local/lib/python3.12/dist-packages (from yfinance) (4.4.0)\n",
            "Requirement already satisfied: pytz>=2022.5 in /usr/local/lib/python3.12/dist-packages (from yfinance) (2025.2)\n",
            "Requirement already satisfied: frozendict>=2.3.4 in /usr/local/lib/python3.12/dist-packages (from yfinance) (2.4.6)\n",
            "Requirement already satisfied: peewee>=3.16.2 in /usr/local/lib/python3.12/dist-packages (from yfinance) (3.18.2)\n",
            "Requirement already satisfied: beautifulsoup4>=4.11.1 in /usr/local/lib/python3.12/dist-packages (from yfinance) (4.13.5)\n",
            "Requirement already satisfied: curl_cffi>=0.7 in /usr/local/lib/python3.12/dist-packages (from yfinance) (0.13.0)\n",
            "Requirement already satisfied: protobuf>=3.19.0 in /usr/local/lib/python3.12/dist-packages (from yfinance) (5.29.5)\n",
            "Requirement already satisfied: websockets>=13.0 in /usr/local/lib/python3.12/dist-packages (from yfinance) (15.0.1)\n",
            "Requirement already satisfied: python-dateutil>=2.8.2 in /usr/local/lib/python3.12/dist-packages (from pandas) (2.9.0.post0)\n",
            "Requirement already satisfied: tzdata>=2022.7 in /usr/local/lib/python3.12/dist-packages (from pandas) (2025.2)\n",
            "Requirement already satisfied: contourpy>=1.0.1 in /usr/local/lib/python3.12/dist-packages (from matplotlib) (1.3.3)\n",
            "Requirement already satisfied: cycler>=0.10 in /usr/local/lib/python3.12/dist-packages (from matplotlib) (0.12.1)\n",
            "Requirement already satisfied: fonttools>=4.22.0 in /usr/local/lib/python3.12/dist-packages (from matplotlib) (4.59.2)\n",
            "Requirement already satisfied: kiwisolver>=1.3.1 in /usr/local/lib/python3.12/dist-packages (from matplotlib) (1.4.9)\n",
            "Requirement already satisfied: packaging>=20.0 in /usr/local/lib/python3.12/dist-packages (from matplotlib) (25.0)\n",
            "Requirement already satisfied: pillow>=8 in /usr/local/lib/python3.12/dist-packages (from matplotlib) (11.3.0)\n",
            "Requirement already satisfied: pyparsing>=2.3.1 in /usr/local/lib/python3.12/dist-packages (from matplotlib) (3.2.3)\n",
            "Requirement already satisfied: soupsieve>1.2 in /usr/local/lib/python3.12/dist-packages (from beautifulsoup4>=4.11.1->yfinance) (2.8)\n",
            "Requirement already satisfied: typing-extensions>=4.0.0 in /usr/local/lib/python3.12/dist-packages (from beautifulsoup4>=4.11.1->yfinance) (4.15.0)\n",
            "Requirement already satisfied: cffi>=1.12.0 in /usr/local/lib/python3.12/dist-packages (from curl_cffi>=0.7->yfinance) (1.17.1)\n",
            "Requirement already satisfied: certifi>=2024.2.2 in /usr/local/lib/python3.12/dist-packages (from curl_cffi>=0.7->yfinance) (2025.8.3)\n",
            "Requirement already satisfied: six>=1.5 in /usr/local/lib/python3.12/dist-packages (from python-dateutil>=2.8.2->pandas) (1.17.0)\n",
            "Requirement already satisfied: charset_normalizer<4,>=2 in /usr/local/lib/python3.12/dist-packages (from requests>=2.31->yfinance) (3.4.3)\n",
            "Requirement already satisfied: idna<4,>=2.5 in /usr/local/lib/python3.12/dist-packages (from requests>=2.31->yfinance) (3.10)\n",
            "Requirement already satisfied: urllib3<3,>=1.21.1 in /usr/local/lib/python3.12/dist-packages (from requests>=2.31->yfinance) (2.5.0)\n",
            "Requirement already satisfied: pycparser in /usr/local/lib/python3.12/dist-packages (from cffi>=1.12.0->curl_cffi>=0.7->yfinance) (2.22)\n"
          ]
        }
      ],
      "source": [
        "!pip install networkx yfinance numpy pandas matplotlib seaborn tabulate typing"
      ]
    },
    {
      "cell_type": "markdown",
      "source": [
        "Lo que sigue es importar las dependencias de las librerias. Esto es para tener acceso a todas las herramientas disponibles."
      ],
      "metadata": {
        "id": "ch36Y2l5GyDE"
      }
    },
    {
      "cell_type": "code",
      "execution_count": 1,
      "metadata": {
        "id": "DJHkNyA-yPbE"
      },
      "outputs": [],
      "source": [
        "import networkx as nx\n",
        "import pandas as pd\n",
        "import numpy as np\n",
        "import yfinance as yf\n",
        "import matplotlib.pyplot as plt\n",
        "import seaborn as sns\n",
        "from typing import Dict, List, Tuple, Optional"
      ]
    },
    {
      "cell_type": "markdown",
      "source": [
        "De acuerdo con su página oficial, la biblioteca NetworkX es útil para cargar y almacenar redes de datos estructurados o no estructurados. También permite construir conjuntos de datos y desarrollar algoritmos que facilitan el análisis de información compleja.\n",
        "\n",
        "Como se mencionó al principio, aplicaremos la biblioteca NetworkX en un contexto de análisis financiero. El objetivo es crear una gráfica que visualice nodos representando activos financieros, donde las conexiones entre ellos reflejan la correlación entre sus precios. Esta visualización es especialmente útil para la optimización de portafolios y el análisis de riesgo, ya que permite identificar relaciones significativas entre activos y tomar decisiones."
      ],
      "metadata": {
        "id": "5Ya2JPftHW7g"
      }
    },
    {
      "cell_type": "markdown",
      "source": [
        "Comenzaremos con las funciones básicas de la biblioteca NetworkX, y poco a poco construiremos un análisis financiero más completo.\n",
        "\n",
        "Primero, creamos un grafo. Un grafo es una colección de nodos o vértices, junto con conexiones entre ellos llamadas aristas. En NetworkX, estos nodos pueden ser cualquier objeto o variable de Python: desde cadenas de texto, imágenes, números, hasta incluso otros grafos.\n",
        "\n",
        "En la primera línea del código, asignamos un nombre a nuestro grafo; en este caso lo llamaremos simplemente \"Grafo\". Luego, definimos que este objeto proviene de la biblioteca networkx (abreviada como nx) y especificamos que queremos crear un grafo vacío.\n",
        "\n",
        "En la segunda línea, incluimos una instrucción de salida para verificar que el grafo se ha creado correctamente. Esta salida nos mostrará información básica sobre el grafo, como el número de nodos y aristas que contiene en ese momento."
      ],
      "metadata": {
        "id": "yBSJ9uqXH2UA"
      }
    },
    {
      "cell_type": "code",
      "source": [
        "N = nx.Graph()#Grafo vacio\n",
        "print(N)#Salida"
      ],
      "metadata": {
        "colab": {
          "base_uri": "https://localhost:8080/"
        },
        "id": "lz2EsUMi3Bkw",
        "outputId": "6651c627-0e37-4581-db5f-a7cea872d653"
      },
      "execution_count": 2,
      "outputs": [
        {
          "output_type": "stream",
          "name": "stdout",
          "text": [
            "Graph with 0 nodes and 0 edges\n"
          ]
        }
      ]
    },
    {
      "cell_type": "markdown",
      "source": [
        "En este caso solo nombramos un grafo sin conexiones, es decir, un grafo vacio, o sin información que conectar.\n",
        "\n",
        "Ahora agreguemos un nodo o un punto. Recordemos que pueden ser cadenas de texto entonces agregamos el nombre de la empresas, de la forma en que aparece en el mercado de valores."
      ],
      "metadata": {
        "id": "87mzzCujKApL"
      }
    },
    {
      "cell_type": "markdown",
      "source": [
        "#Nodos"
      ],
      "metadata": {
        "id": "_vfifIoMkMqb"
      }
    },
    {
      "cell_type": "code",
      "source": [
        "N.add_node(\"PLTR\")#Agregamos el nodo\n",
        "print(N)#Salida del nodo"
      ],
      "metadata": {
        "colab": {
          "base_uri": "https://localhost:8080/"
        },
        "id": "O5d--UQKOrUt",
        "outputId": "30c83dac-fc00-4672-b47e-9af8c692034f"
      },
      "execution_count": 3,
      "outputs": [
        {
          "output_type": "stream",
          "name": "stdout",
          "text": [
            "Graph with 1 nodes and 0 edges\n"
          ]
        }
      ]
    },
    {
      "cell_type": "markdown",
      "source": [
        "Ahora agregaremos mas nodos"
      ],
      "metadata": {
        "id": "fW71NpYiPGN9"
      }
    },
    {
      "cell_type": "code",
      "source": [
        "N.add_node(\"SNAP\")\n",
        "N.add_node(\"SOUN\")\n",
        "N.add_node(\"WBD\")\n",
        "N.add_node(\"BBD\")"
      ],
      "metadata": {
        "id": "trtr23EN5FiJ"
      },
      "execution_count": 4,
      "outputs": []
    },
    {
      "cell_type": "markdown",
      "source": [
        "Como podemos ver esto es algo largo y cansado entonces usando la función .add_nodes_from() podemos agregar varios nodos simultaneamente."
      ],
      "metadata": {
        "id": "45PNlJUAQZDf"
      }
    },
    {
      "cell_type": "code",
      "source": [
        "N.add_nodes_from(([\"JPM\", \"GOOGL\", \"TSLA\", \"NVDA\", \"BRK-B\",\"META\", \"F\", \"CAT\", \"XOM\", \"CWAN\", \"FYBR\"]))\n",
        "print(N)"
      ],
      "metadata": {
        "colab": {
          "base_uri": "https://localhost:8080/"
        },
        "id": "lZ13IFutQrQ-",
        "outputId": "b5d76a4b-5eae-4c86-a098-7a2141d756e3"
      },
      "execution_count": 5,
      "outputs": [
        {
          "output_type": "stream",
          "name": "stdout",
          "text": [
            "Graph with 16 nodes and 0 edges\n"
          ]
        }
      ]
    },
    {
      "cell_type": "markdown",
      "source": [
        "Podemos agregarle atributos o caracteristicas dentro de los nodos con la misma función"
      ],
      "metadata": {
        "id": "OT8s7AcERxf2"
      }
    },
    {
      "cell_type": "code",
      "source": [
        "N.add_nodes_from([(\"RIVN\",{\"Sector Financiero\":\"Industria de Automoviles\"})])\n",
        "print(N.nodes(data=True))"
      ],
      "metadata": {
        "colab": {
          "base_uri": "https://localhost:8080/"
        },
        "id": "vK0DpihIQTv7",
        "outputId": "20c7e38d-332f-411c-96fd-7fc2450cad8c"
      },
      "execution_count": 6,
      "outputs": [
        {
          "output_type": "stream",
          "name": "stdout",
          "text": [
            "[('PLTR', {}), ('SNAP', {}), ('SOUN', {}), ('WBD', {}), ('BBD', {}), ('JPM', {}), ('GOOGL', {}), ('TSLA', {}), ('NVDA', {}), ('BRK-B', {}), ('META', {}), ('F', {}), ('CAT', {}), ('XOM', {}), ('CWAN', {}), ('FYBR', {}), ('RIVN', {'Sector Financiero': 'Industria de Automoviles'})]\n"
          ]
        }
      ]
    },
    {
      "cell_type": "markdown",
      "source": [
        "Como podemos ver, el atributo aparece en el orden adecuado. Sin embargo para fines del ejemplo mantendremos las cosas simples y lo haremos sin atributos.\n",
        "Entonces solo eliminaremos el ultimo nodo con la funcion .remove_nodes_from()"
      ],
      "metadata": {
        "id": "Uf2PQS6SToQr"
      }
    },
    {
      "cell_type": "code",
      "source": [
        "N.remove_nodes_from([\"RIVN\"])\n",
        "print(N.nodes(data=True))\n",
        "#Nota tambien podemos elimiar nodos por caracteristica con la misma función"
      ],
      "metadata": {
        "colab": {
          "base_uri": "https://localhost:8080/"
        },
        "id": "3fgeVgxXT-VC",
        "outputId": "d6ab68fe-5cd7-4c71-dd7f-564f04dc134f"
      },
      "execution_count": 7,
      "outputs": [
        {
          "output_type": "stream",
          "name": "stdout",
          "text": [
            "[('PLTR', {}), ('SNAP', {}), ('SOUN', {}), ('WBD', {}), ('BBD', {}), ('JPM', {}), ('GOOGL', {}), ('TSLA', {}), ('NVDA', {}), ('BRK-B', {}), ('META', {}), ('F', {}), ('CAT', {}), ('XOM', {}), ('CWAN', {}), ('FYBR', {})]\n"
          ]
        }
      ]
    },
    {
      "cell_type": "markdown",
      "source": [
        "Tambien podemos borras todos los nodos del grafo con la funcion .clear()"
      ],
      "metadata": {
        "id": "5TkYHT5KUu9d"
      }
    },
    {
      "cell_type": "code",
      "source": [
        "N.clear()\n",
        "print(N)"
      ],
      "metadata": {
        "colab": {
          "base_uri": "https://localhost:8080/"
        },
        "id": "CAnEvk-LUuFk",
        "outputId": "6ddfebe2-d31c-4fc0-c347-1a2aba9f3b23"
      },
      "execution_count": 8,
      "outputs": [
        {
          "output_type": "stream",
          "name": "stdout",
          "text": [
            "Graph with 0 nodes and 0 edges\n"
          ]
        }
      ]
    },
    {
      "cell_type": "markdown",
      "source": [
        "Volvemos a agregar los nodos nuevamente"
      ],
      "metadata": {
        "id": "A2oengxQVKK9"
      }
    },
    {
      "cell_type": "code",
      "source": [
        "N.add_nodes_from(([\"PLTR\",\"SNAP\",\"SOUN\",\"WBD\",\"BBD\",\"JPM\", \"GOOGL\", \"TSLA\", \"NVDA\", \"BRK-B\",\"META\", \"F\", \"CAT\", \"XOM\", \"CWAN\", \"FYBR\"]))\n",
        "print(N)"
      ],
      "metadata": {
        "colab": {
          "base_uri": "https://localhost:8080/"
        },
        "id": "vn4r2oilDawO",
        "outputId": "1b49b688-5333-4854-d6f6-c3f89f3b9b64"
      },
      "execution_count": 9,
      "outputs": [
        {
          "output_type": "stream",
          "name": "stdout",
          "text": [
            "Graph with 16 nodes and 0 edges\n"
          ]
        }
      ]
    },
    {
      "cell_type": "markdown",
      "source": [
        "#Edges"
      ],
      "metadata": {
        "id": "5A_pGaJ0kYgA"
      }
    },
    {
      "cell_type": "markdown",
      "source": [
        " Podemos agregar conexiones o aristas entre los nodos. Estas conexiones son conocidos como \"edge\". Y los agregamos con la función .add_edge o si queremos agregar varias conexiones al mismo tiempo usamos la función .add_edges_from"
      ],
      "metadata": {
        "id": "H42Aes0vV4QA"
      }
    },
    {
      "cell_type": "code",
      "source": [
        "#Conexiones individuales\n",
        "N.add_edge(\"JPM\", \"GOOGL\")\n",
        "N.add_edge(\"TSLA\", \"NVDA\")\n",
        "N.add_edge(\"BRK-B\", \"CAT\")\n",
        "#Conexiones multiples\n",
        "N.add_edges_from([(\"META\", \"GOOGL\"),(\"F\", \"XOM\"),(\"CWAN\", \"FYBR\"),(\"JPM\", \"BRK-B\"),(\"TSLA\", \"META\")])\n",
        "print(N)"
      ],
      "metadata": {
        "colab": {
          "base_uri": "https://localhost:8080/"
        },
        "id": "PXF6dF62VRf7",
        "outputId": "20fa5d54-38b2-40a2-bf88-2f1b00862da1"
      },
      "execution_count": 10,
      "outputs": [
        {
          "output_type": "stream",
          "name": "stdout",
          "text": [
            "Graph with 16 nodes and 8 edges\n"
          ]
        }
      ]
    },
    {
      "cell_type": "markdown",
      "source": [
        "Ahora creamos un grafo nuevo. Este grafo nos ayudara a entender el orden de los nodos y las conexiones."
      ],
      "metadata": {
        "id": "qeijih6KfyHl"
      }
    },
    {
      "cell_type": "code",
      "source": [
        "DG=nx.DiGraph()"
      ],
      "metadata": {
        "id": "-s5DCondcqGN"
      },
      "execution_count": 11,
      "outputs": []
    },
    {
      "cell_type": "markdown",
      "source": [
        "Con la funcion .DiGraph, creamos un grafo dirigido. En este tipo de grafo, las conexiones (aristas)  tienen dirección, es decir, una relación entre A y B no es la misma que entre B y A.\n",
        "\n",
        "Al nuevo grafo le agregamos nuevas conexiones."
      ],
      "metadata": {
        "id": "5NQKVB_ShcgE"
      }
    },
    {
      "cell_type": "code",
      "source": [
        "DG.add_edge(\"GOOGL\", \"JPM\")\n",
        "DG.add_edge(\"JPM\", \"TSLA\")\n",
        "DG.add_edge(\"GOOGL\", \"NVDA\")\n",
        "DG.add_edge(\"JPM\", \"GOOGL\")"
      ],
      "metadata": {
        "id": "oTDykHHWiW4J"
      },
      "execution_count": 12,
      "outputs": []
    },
    {
      "cell_type": "markdown",
      "source": [
        "Mostramos los nodos y las aristas del grafo dirigido.\n",
        "list(DG.edges) convierte las aristas a una lista explícita.\n",
        "DG.successors(nodo) muestra todos los nodos a los que un nodo específico tiene una flecha saliente."
      ],
      "metadata": {
        "id": "edX6lQuyjCYb"
      }
    },
    {
      "cell_type": "code",
      "source": [
        "print(\"Grafo dirigido:\")\n",
        "print(\"Nodos:\", DG.nodes())\n",
        "print(\"Aristas:\", list(DG.edges))\n",
        "print(\"Sucesores de GOOGL:\", list(DG.successors(\"GOOGL\")))"
      ],
      "metadata": {
        "colab": {
          "base_uri": "https://localhost:8080/"
        },
        "id": "yrsTwL-VjNSH",
        "outputId": "b95c1aca-f769-45cf-f915-a16729ca8d5b"
      },
      "execution_count": 13,
      "outputs": [
        {
          "output_type": "stream",
          "name": "stdout",
          "text": [
            "Grafo dirigido:\n",
            "Nodos: ['GOOGL', 'JPM', 'TSLA', 'NVDA']\n",
            "Aristas: [('GOOGL', 'JPM'), ('GOOGL', 'NVDA'), ('JPM', 'TSLA'), ('JPM', 'GOOGL')]\n",
            "Sucesores de GOOGL: ['JPM', 'NVDA']\n"
          ]
        }
      ]
    },
    {
      "cell_type": "markdown",
      "source": [
        "Estas líneas verifican que el grafo dirigido tiene exactamente los sucesores y aristas esperadas.\n",
        "Si la condición no se cumple, Python lanzará un error."
      ],
      "metadata": {
        "id": "J5tx-ckqj8JH"
      }
    },
    {
      "cell_type": "code",
      "source": [
        "assert list(DG.successors(\"GOOGL\")) == [\"JPM\", \"NVDA\"]\n",
        "assert list(DG.edges) == [(\"GOOGL\", \"JPM\"), (\"GOOGL\", \"NVDA\"), (\"JPM\", \"TSLA\"), (\"JPM\", \"GOOGL\")]"
      ],
      "metadata": {
        "id": "_foxFsITkCxl"
      },
      "execution_count": 14,
      "outputs": []
    },
    {
      "cell_type": "markdown",
      "source": [
        "#Analisis de los elementos de un grafo"
      ],
      "metadata": {
        "id": "vXigf-D1kitZ"
      }
    },
    {
      "cell_type": "markdown",
      "source": [
        "En esta sección se describe como podemos visualizar la información dentro de nuestro grafo, en caso de que queramos un nodo en especifico."
      ],
      "metadata": {
        "id": "CT1RDoDkktFP"
      }
    },
    {
      "cell_type": "code",
      "source": [
        "print(\"Lista de nodos en el grafo\")\n",
        "list(N.nodes)"
      ],
      "metadata": {
        "colab": {
          "base_uri": "https://localhost:8080/"
        },
        "id": "xm6Y7sMTkqJj",
        "outputId": "a8ee9bd5-f5e7-40dc-c198-ba22c7d26d6c"
      },
      "execution_count": 15,
      "outputs": [
        {
          "output_type": "stream",
          "name": "stdout",
          "text": [
            "Lista de nodos en el grafo\n"
          ]
        },
        {
          "output_type": "execute_result",
          "data": {
            "text/plain": [
              "['PLTR',\n",
              " 'SNAP',\n",
              " 'SOUN',\n",
              " 'WBD',\n",
              " 'BBD',\n",
              " 'JPM',\n",
              " 'GOOGL',\n",
              " 'TSLA',\n",
              " 'NVDA',\n",
              " 'BRK-B',\n",
              " 'META',\n",
              " 'F',\n",
              " 'CAT',\n",
              " 'XOM',\n",
              " 'CWAN',\n",
              " 'FYBR']"
            ]
          },
          "metadata": {},
          "execution_count": 15
        }
      ]
    },
    {
      "cell_type": "code",
      "source": [
        "print(\"Lista de conexiones en el grafo\")\n",
        "list(N.edges)"
      ],
      "metadata": {
        "colab": {
          "base_uri": "https://localhost:8080/"
        },
        "id": "3Fr3i0VBnEKk",
        "outputId": "fb27531d-17f7-48e6-a113-cd092a3675a3"
      },
      "execution_count": 16,
      "outputs": [
        {
          "output_type": "stream",
          "name": "stdout",
          "text": [
            "Lista de conexiones en el grafo\n"
          ]
        },
        {
          "output_type": "execute_result",
          "data": {
            "text/plain": [
              "[('JPM', 'GOOGL'),\n",
              " ('JPM', 'BRK-B'),\n",
              " ('GOOGL', 'META'),\n",
              " ('TSLA', 'NVDA'),\n",
              " ('TSLA', 'META'),\n",
              " ('BRK-B', 'CAT'),\n",
              " ('F', 'XOM'),\n",
              " ('CWAN', 'FYBR')]"
            ]
          },
          "metadata": {},
          "execution_count": 16
        }
      ]
    },
    {
      "cell_type": "code",
      "source": [
        "print(\"Conexiones con el nodo TSLA\")\n",
        "list(N.neighbors(\"TSLA\"))"
      ],
      "metadata": {
        "colab": {
          "base_uri": "https://localhost:8080/"
        },
        "id": "MLaqjvEmoEVM",
        "outputId": "717d521f-3690-4eb0-eb2a-96acf417431e"
      },
      "execution_count": 17,
      "outputs": [
        {
          "output_type": "stream",
          "name": "stdout",
          "text": [
            "Conexiones con el nodo TSLA\n"
          ]
        },
        {
          "output_type": "execute_result",
          "data": {
            "text/plain": [
              "['NVDA', 'META']"
            ]
          },
          "metadata": {},
          "execution_count": 17
        }
      ]
    },
    {
      "cell_type": "markdown",
      "source": [
        "Creamos una nueva grafica ahora con valores númericos que bien podrian representar algunos precios o valuaciones. Y se la adjuntamos al grafo dirigido que ya teniamos."
      ],
      "metadata": {
        "id": "jYVcdYWq_esR"
      }
    },
    {
      "cell_type": "code",
      "source": [
        "DG.add_edges_from([(\"GOOGL\",\"JPM\"),(\"TSLA\",\"BRK-B\"),(\"XOM\",\"BBD\")])\n",
        "DG2=nx.DiGraph(DG)\n",
        "list(DG2.edges())"
      ],
      "metadata": {
        "colab": {
          "base_uri": "https://localhost:8080/"
        },
        "id": "-qNN7M2H8IpD",
        "outputId": "15409193-d7a3-4859-db88-39213d5219a9"
      },
      "execution_count": 18,
      "outputs": [
        {
          "output_type": "execute_result",
          "data": {
            "text/plain": [
              "[('GOOGL', 'JPM'),\n",
              " ('GOOGL', 'NVDA'),\n",
              " ('JPM', 'TSLA'),\n",
              " ('JPM', 'GOOGL'),\n",
              " ('TSLA', 'BRK-B'),\n",
              " ('XOM', 'BBD')]"
            ]
          },
          "metadata": {},
          "execution_count": 18
        }
      ]
    },
    {
      "cell_type": "markdown",
      "source": [
        "Por último haremos un resumen con el ejemplo completo."
      ],
      "metadata": {
        "id": "Cget2fRQv7G1"
      }
    },
    {
      "cell_type": "code",
      "source": [
        "\n",
        "\n",
        "# --- Función para crear un grafo de ejemplo ---\n",
        "def create_sample_graph() -> nx.Graph:\n",
        "    \"\"\"\n",
        "    Creates a sample undirected graph with nodes and weighted edges.\n",
        "    Returns:\n",
        "        nx.Graph: A NetworkX graph with nodes and edges, all with weight attributes.\n",
        "    \"\"\"\n",
        "    G = nx.Graph()\n",
        "\n",
        "    # Añadir nodos\n",
        "    nodes = [\"A\", \"B\", \"C\", \"D\", \"E\", \"F\"]\n",
        "    G.add_nodes_from(nodes)\n",
        "\n",
        "    # Añadir aristas con pesos\n",
        "    edges = [\n",
        "        (\"A\", \"B\", 1.0), (\"B\", \"C\", 0.8), (\"C\", \"D\", 0.5),\n",
        "        (\"D\", \"E\", 1.2), (\"E\", \"F\", 0.7), (\"F\", \"A\", 1.0),\n",
        "        (\"A\", \"D\", 0.3), (\"B\", \"E\", 0.9)\n",
        "    ]\n",
        "    G.add_weighted_edges_from(edges)\n",
        "\n",
        "    # Añadir atributos a nodos\n",
        "    for node in G.nodes():\n",
        "        G.nodes[node][\"color\"] = \"skyblue\"  # Color por defecto\n",
        "    G.nodes[\"A\"][\"color\"] = \"blue\"  # Color especial para A\n",
        "    G.nodes[\"B\"][\"color\"] = \"red\"   # Color especial para B\n",
        "\n",
        "    # Añadir atributo adicional a una arista\n",
        "    G.edges[\"A\", \"B\"][\"type\"] = \"strong\"\n",
        "\n",
        "    return G\n",
        "\n",
        "# --- Función para visualizar el grafo ---\n",
        "def visualize_graph(G: nx.Graph, layout_type: str = \"spring\", title: str = \"NetworkX Graph\") -> None:\n",
        "    \"\"\"\n",
        "    Visualizes a NetworkX graph with customizable layout and styling.\n",
        "    Args:\n",
        "        G: NetworkX graph to visualize.\n",
        "        layout_type: Layout for node positioning (\"spring\", \"circular\", \"kamada_kawai\").\n",
        "        title: Title of the plot.\n",
        "    \"\"\"\n",
        "    plt.figure(figsize=(8, 6))\n",
        "\n",
        "    # Seleccionar layout\n",
        "    if layout_type == \"circular\":\n",
        "        pos = nx.circular_layout(G)\n",
        "    elif layout_type == \"kamada_kawai\":\n",
        "        pos = nx.kamada_kawai_layout(G)\n",
        "    else:\n",
        "        pos = nx.spring_layout(G)\n",
        "\n",
        "    # Obtener colores de nodos\n",
        "    node_colors = [G.nodes[n].get(\"color\", \"skyblue\") for n in G.nodes]\n",
        "\n",
        "    # Obtener grosores de aristas (manejo de pesos faltantes)\n",
        "    edge_widths = [G[u][v].get(\"weight\", 1.0) * 2 for u, v in G.edges]\n",
        "\n",
        "    # Dibujar nodos\n",
        "    nx.draw_networkx_nodes(G, pos, node_size=500, node_color=node_colors, alpha=0.8)\n",
        "\n",
        "    # Dibujar aristas\n",
        "    nx.draw_networkx_edges(G, pos, width=edge_widths, edge_color=\"gray\")\n",
        "\n",
        "    # Dibujar etiquetas de nodos\n",
        "    nx.draw_networkx_labels(G, pos, font_size=12, font_weight=\"bold\")\n",
        "\n",
        "    # Dibujar etiquetas de peso en las aristas\n",
        "    edge_labels = nx.get_edge_attributes(G, \"weight\")\n",
        "    nx.draw_networkx_edge_labels(G, pos, edge_labels=edge_labels)\n",
        "\n",
        "    plt.title(title)\n",
        "    plt.show()\n",
        "\n",
        "# --- Función para analizar métricas del grafo ---\n",
        "def analyze_graph(G: nx.Graph) -> Dict[str, any]:\n",
        "    \"\"\"\n",
        "    Computes various network metrics for the given graph.\n",
        "    Args:\n",
        "        G: NetworkX graph to analyze.\n",
        "    Returns:\n",
        "        Dict containing number of nodes, edges, degree, centrality, clustering, and communities.\n",
        "    \"\"\"\n",
        "    metrics = {}\n",
        "\n",
        "    # Número de nodos y aristas\n",
        "    metrics[\"num_nodes\"] = G.number_of_nodes()\n",
        "    metrics[\"num_edges\"] = G.number_of_edges()\n",
        "\n",
        "    # Grado de los nodos\n",
        "    metrics[\"degree\"] = dict(G.degree())\n",
        "\n",
        "    # Centralidad de grado\n",
        "    metrics[\"degree_centrality\"] = nx.degree_centrality(G)\n",
        "\n",
        "    # Centralidad de intermediación (betweenness)\n",
        "    metrics[\"betweenness_centrality\"] = nx.betweenness_centrality(G, weight=\"weight\")\n",
        "\n",
        "    # PageRank\n",
        "    metrics[\"pagerank\"] = nx.pagerank(G, weight=\"weight\")\n",
        "\n",
        "    # Coeficiente de clustering\n",
        "    metrics[\"clustering\"] = nx.clustering(G)\n",
        "\n",
        "    # Densidad del grafo\n",
        "    metrics[\"density\"] = nx.density(G)\n",
        "\n",
        "    # Comunidades\n",
        "    try:\n",
        "        communities = nx.algorithms.community.greedy_modularity_communities(G)\n",
        "        metrics[\"communities\"] = [list(comm) for comm in communities]\n",
        "    except:\n",
        "        metrics[\"communities\"] = []\n",
        "\n",
        "    return metrics\n",
        "\n",
        "# --- Función para imprimir métricas ---\n",
        "def print_metrics(metrics: Dict[str, any]) -> None:\n",
        "    \"\"\"\n",
        "    Prints network metrics in a formatted way.\n",
        "    Args:\n",
        "        metrics: Dictionary of metrics from analyze_graph.\n",
        "    \"\"\"\n",
        "    print(\"\\n=== Análisis del Grafo ===\")\n",
        "    print(f\"Número de nodos: {metrics['num_nodes']}\")\n",
        "    print(f\"Número de aristas: {metrics['num_edges']}\")\n",
        "    print(\"\\nGrado de los nodos:\")\n",
        "    for node, degree in metrics[\"degree\"].items():\n",
        "        print(f\"{node}: {degree}\")\n",
        "    print(\"\\nCentralidad de grado:\")\n",
        "    for node, centrality in metrics[\"degree_centrality\"].items():\n",
        "        print(f\"{node}: {centrality:.3f}\")\n",
        "    print(\"\\nCentralidad de intermediación:\")\n",
        "    for node, centrality in metrics[\"betweenness_centrality\"].items():\n",
        "        print(f\"{node}: {centrality:.3f}\")\n",
        "    print(\"\\nPageRank:\")\n",
        "    for node, rank in metrics[\"pagerank\"].items():\n",
        "        print(f\"{node}: {rank:.3f}\")\n",
        "    print(\"\\nCoeficiente de clustering:\")\n",
        "    for node, coeff in metrics[\"clustering\"].items():\n",
        "        print(f\"{node}: {coeff:.3f}\")\n",
        "    print(f\"\\nDensidad del grafo: {metrics['density']:.3f}\")\n",
        "    print(\"\\nComunidades detectadas:\")\n",
        "    for i, comm in enumerate(metrics[\"communities\"]):\n",
        "        print(f\"Comunidad {i+1}: {comm}\")\n",
        "\n",
        "# --- Función para generar un grafo aleatorio ---\n",
        "def generate_random_graph(n: int = 10, p: float = 0.3) -> nx.Graph:\n",
        "    \"\"\"\n",
        "    Generates a random Erdős-Rényi graph.\n",
        "    Args:\n",
        "        n: Number of nodes.\n",
        "        p: Probability of edge creation.\n",
        "    Returns:\n",
        "        nx.Graph: A random graph with weights.\n",
        "    \"\"\"\n",
        "    G = nx.erdos_renyi_graph(n, p)\n",
        "    # Añadir pesos aleatorios a las aristas\n",
        "    for u, v in G.edges():\n",
        "        G[u][v][\"weight\"] = np.random.uniform(0.1, 1.0)\n",
        "    return G\n",
        "\n",
        "# --- Función principal ---\n",
        "def main():\n",
        "    \"\"\"\n",
        "    Main function to run the NetworkX tutorial.\n",
        "    \"\"\"\n",
        "    # Crear grafo de ejemplo\n",
        "    print(\"=== Creando grafo de ejemplo ===\")\n",
        "    G = create_sample_graph()\n",
        "    print(\"Nodos:\", G.nodes())\n",
        "    print(\"Aristas:\", G.edges(data=True))\n",
        "    print(\"Atributos del nodo A:\", G.nodes[\"A\"])\n",
        "    print(\"Atributos de la arista A-B:\", G.edges[\"A\", \"B\"])\n",
        "\n",
        "    # Visualizar grafo con diferentes layouts\n",
        "    print(\"\\n=== Visualizando grafo (Spring Layout) ===\")\n",
        "    visualize_graph(G, layout_type=\"spring\", title=\"Grafo de Ejemplo (Spring Layout)\")\n",
        "\n",
        "    print(\"\\n=== Visualizando grafo (Circular Layout) ===\")\n",
        "    visualize_graph(G, layout_type=\"circular\", title=\"Grafo de Ejemplo (Circular Layout)\")\n",
        "\n",
        "    print(\"\\n=== Visualizando grafo (Kamada-Kawai Layout) ===\")\n",
        "    visualize_graph(G, layout_type=\"kamada_kawai\", title=\"Grafo de Ejemplo (Kamada-Kawai Layout)\")\n",
        "\n",
        "    # Analizar métricas\n",
        "    metrics = analyze_graph(G)\n",
        "    print_metrics(metrics)\n",
        "\n",
        "    # Caminos más cortos\n",
        "    try:\n",
        "        path = nx.shortest_path(G, source=\"A\", target=\"E\", weight=\"weight\")\n",
        "        path_length = nx.shortest_path_length(G, source=\"A\", target=\"E\", weight=\"weight\")\n",
        "        print(\"\\nCamino más corto de A a E (ponderado por peso):\", path)\n",
        "        print(\"Longitud del camino más corto de A a E:\", path_length)\n",
        "    except nx.NetworkXNoPath:\n",
        "        print(\"\\nNo hay camino entre A y E\")\n",
        "\n",
        "    # Generar y visualizar grafo aleatorio\n",
        "    print(\"\\n=== Generando y visualizando grafo aleatorio ===\")\n",
        "    random_G = generate_random_graph(n=10, p=0.3)\n",
        "    visualize_graph(random_G, title=\"Grafo Aleatorio (Erdős-Rényi)\")\n",
        "    random_metrics = analyze_graph(random_G)\n",
        "    print_metrics(random_metrics)"
      ],
      "metadata": {
        "id": "jGJgXjbauPJE"
      },
      "execution_count": 22,
      "outputs": []
    },
    {
      "cell_type": "code",
      "source": [],
      "metadata": {
        "id": "QznbiWoRqrSZ"
      },
      "execution_count": null,
      "outputs": []
    }
  ],
  "metadata": {
    "colab": {
      "provenance": [],
      "authorship_tag": "ABX9TyOxusr5hHj8yfSl+01l2RuV",
      "include_colab_link": true
    },
    "kernelspec": {
      "display_name": "Python 3",
      "name": "python3"
    },
    "language_info": {
      "name": "python"
    }
  },
  "nbformat": 4,
  "nbformat_minor": 0
}